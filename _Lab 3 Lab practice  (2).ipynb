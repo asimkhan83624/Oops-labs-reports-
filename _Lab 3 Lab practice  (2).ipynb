{
 "cells": [
  {
   "cell_type": "markdown",
   "id": "37ec1337-3829-4385-95ba-4e4f5a0c5820",
   "metadata": {},
   "source": [
    "# Lab 3: List, Tuple, and Dictionary   "
   ]
  },
  {
   "cell_type": "markdown",
   "id": "791cfb4c-97f3-429a-979a-9f69fa9913e5",
   "metadata": {},
   "source": [
    "<p style=\"color:maroon; font-size:25px; font-family:sansirf; text-align:center;\">Lab Title: EE-271 “OOP & Data Structures Lab” </p>"
   ]
  },
  {
   "cell_type": "markdown",
   "id": "2c06433c-a535-4ac4-b7a8-b4d82e022905",
   "metadata": {},
   "source": [
    "<p style=\"color:teal; font-size:25px; font-family: Impact; text-align:left;\">Lab Task </p>"
   ]
  },
  {
   "cell_type": "markdown",
   "id": "40edaa3f-567d-4427-9665-535acfccc3d2",
   "metadata": {},
   "source": [
    "<p style=\"color:teal; font-size:25px; font-family: Impact; text-align:left;\">List</p>"
   ]
  },
  {
   "cell_type": "code",
   "execution_count": 1,
   "id": "117e0d76-6138-4138-88ac-f177f63cd25d",
   "metadata": {},
   "outputs": [
    {
     "name": "stdout",
     "output_type": "stream",
     "text": [
      "List of 5 Integers: [3, -5, 12, 0, 7]\n"
     ]
    }
   ],
   "source": [
    "integers = [3, -5, 12, 0, 7]\n",
    "print(\"List of 5 Integers:\", integers)"
   ]
  },
  {
   "cell_type": "code",
   "execution_count": 1,
   "id": "62be722c-b664-4e6f-b9fc-f29001467711",
   "metadata": {},
   "outputs": [
    {
     "name": "stdout",
     "output_type": "stream",
     "text": [
      "Student Details: ['asim', 518, 3.27, [3.6, 3.7, 4.0, 3.8]]\n"
     ]
    }
   ],
   "source": [
    "student = [\"asim\", 518, 3.27, [3.6, 3.7, 4.0, 3.8]]\n",
    "print(\"Student Details:\", student)"
   ]
  },
  {
   "cell_type": "code",
   "execution_count": 2,
   "id": "45372d74-1021-43d1-beee-0a3b420c251c",
   "metadata": {},
   "outputs": [
    {
     "name": "stdout",
     "output_type": "stream",
     "text": [
      "Student's CGPA: 3.27\n"
     ]
    }
   ],
   "source": [
    "print(\"Student's CGPA:\", student[2])"
   ]
  },
  {
   "cell_type": "code",
   "execution_count": 3,
   "id": "7c00ca6a-83f8-42ac-90d4-129cbe973183",
   "metadata": {},
   "outputs": [
    {
     "name": "stdout",
     "output_type": "stream",
     "text": [
      "List Elements:\n",
      "asim\n",
      "518\n",
      "3.27\n",
      "[3.6, 3.7, 4.0, 3.8]\n"
     ]
    }
   ],
   "source": [
    "print(\"List Elements:\")\n",
    "index = 0\n",
    "while index < len(student):\n",
    "    print(student[index])\n",
    "    index += 1"
   ]
  },
  {
   "cell_type": "code",
   "execution_count": 4,
   "id": "6d616bd7-3057-4c79-8f06-64db4332a7f2",
   "metadata": {},
   "outputs": [
    {
     "name": "stdout",
     "output_type": "stream",
     "text": [
      "Last Semester GPA: 3.8\n",
      "Last Semester GPA: 4.0\n",
      "Last Semester GPA: 3.7\n",
      "Last Semester GPA: 3.6\n"
     ]
    }
   ],
   "source": [
    "gpas = student[3]  # List of GPAs\n",
    "print(\"Last Semester GPA:\", gpas[-1])\n",
    "print(\"Last Semester GPA:\", gpas[-2])\n",
    "print(\"Last Semester GPA:\", gpas[-3])\n",
    "print(\"Last Semester GPA:\", gpas[-4])"
   ]
  },
  {
   "cell_type": "code",
   "execution_count": 5,
   "id": "ea6026a4-4ec9-4929-9592-68dbc7463795",
   "metadata": {},
   "outputs": [
    {
     "name": "stdout",
     "output_type": "stream",
     "text": [
      "First 20 Integers: [0, 1, 2, 3, 4, 5, 6, 7, 8, 9, 10, 11, 12, 13, 14, 15, 16, 17, 18, 19]\n"
     ]
    }
   ],
   "source": [
    "first_20_integers = list(range(20))\n",
    "print(\"First 20 Integers:\", first_20_integers)\n"
   ]
  },
  {
   "cell_type": "code",
   "execution_count": 6,
   "id": "fdba35a7-7829-4176-8048-4370adc6d7b7",
   "metadata": {},
   "outputs": [
    {
     "name": "stdout",
     "output_type": "stream",
     "text": [
      "Odd Integers from 20 to 40: [21, 23, 25, 27, 29, 31, 33, 35, 37, 39]\n"
     ]
    }
   ],
   "source": [
    "odd_integers_20_to_40 = list(range(21, 40, 2))\n",
    "print(\"Odd Integers from 20 to 40:\", odd_integers_20_to_40)"
   ]
  },
  {
   "cell_type": "code",
   "execution_count": 9,
   "id": "ddaf1356-bebb-48dc-a10e-f5c4e40579bb",
   "metadata": {},
   "outputs": [
    {
     "name": "stdout",
     "output_type": "stream",
     "text": [
      "Is 'kamal' in the list? True\n",
      "Is 'usman' not in the list? True\n"
     ]
    }
   ],
   "source": [
    "students = [\"asim\", \"kamal\", \"jamal\", \"waleed\", \"zohan\"]\n",
    "is_present = \"kamil\" not in students\n",
    "is_not_present = \"usman\" not in students\n",
    "print(\"Is 'kamal' in the list?\", is_present)\n",
    "print(\"Is 'usman' not in the list?\", is_not_present)"
   ]
  },
  {
   "cell_type": "code",
   "execution_count": 10,
   "id": "50450e1a-8541-452a-9dbc-a91ed3386689",
   "metadata": {},
   "outputs": [
    {
     "name": "stdout",
     "output_type": "stream",
     "text": [
      "All Students:\n",
      "asim\n",
      "kamal\n",
      "jamal\n",
      "waleed\n",
      "zohan\n"
     ]
    }
   ],
   "source": [
    "print(\"All Students:\")\n",
    "for student in students:\n",
    "    print(student)"
   ]
  },
  {
   "cell_type": "code",
   "execution_count": 10,
   "id": "bedb2a1e-feec-4b7a-82a6-d1f139cec386",
   "metadata": {},
   "outputs": [
    {
     "name": "stdout",
     "output_type": "stream",
     "text": [
      "Student List Slices:\n",
      "Students[1:3]: ['Hussain', 'jamal']\n",
      "Students[2:4]: ['jamal', 'waleed']\n"
     ]
    }
   ],
   "source": [
    "print(\"Student List Slices:\")\n",
    "print(\"Students[1:3]:\", students[1:3])\n",
    "print(\"Students[2:4]:\", students[2:4])\n"
   ]
  },
  {
   "cell_type": "code",
   "execution_count": 11,
   "id": "786c927c-bd92-4e86-b41d-01606646a8e4",
   "metadata": {},
   "outputs": [
    {
     "name": "stdout",
     "output_type": "stream",
     "text": [
      "List after mutations: [1, 1.5, 3, 4, 5]\n",
      "Popped item: 6\n"
     ]
    }
   ],
   "source": [
    "my_list = [1, 2, 3]\n",
    "my_list.append(4)          \n",
    "my_list.extend([5, 6])     \n",
    "my_list.insert(1, 1.5)    \n",
    "my_list.remove(2)        \n",
    "popped_item = my_list.pop()  \n",
    "print(\"List after mutations:\", my_list)\n",
    "print(\"Popped item:\", popped_item)"
   ]
  },
  {
   "cell_type": "code",
   "execution_count": 12,
   "id": "21e00372-e948-4df8-84b1-311beb7511c1",
   "metadata": {},
   "outputs": [
    {
     "name": "stdout",
     "output_type": "stream",
     "text": [
      "Elements in Nested List:\n",
      "a\n",
      "bb\n",
      "ccc\n",
      "ddd\n",
      "ee\n",
      "ff\n",
      "g\n",
      "hh\n",
      "ii\n",
      "j\n"
     ]
    }
   ],
   "source": [
    "# Define the nested list\n",
    "x = [\"a\", [\"bb\", [\"ccc\", \"ddd\"], \"ee\", \"ff\"], \"g\", [\"hh\", \"ii\"], \"j\"]\n",
    "\n",
    "# Access each element using indexing\n",
    "print(\"Elements in Nested List:\")\n",
    "print(x[0])  \n",
    "print(x[1][0])  \n",
    "print(x[1][1][0])  \n",
    "print(x[1][1][1])  \n",
    "print(x[1][2])  \n",
    "print(x[1][3])  \n",
    "print(x[2])  \n",
    "print(x[3][0])  \n",
    "print(x[3][1])  \n",
    "print(x[4])  \n"
   ]
  },
  {
   "cell_type": "markdown",
   "id": "1ae27ae4-307e-4246-b9ca-bfbee2cbe20e",
   "metadata": {},
   "source": [
    "<p style=\"color:teal; font-size:25px; font-family: Impact; text-align:left;\">Tuple</p>"
   ]
  },
  {
   "cell_type": "code",
   "execution_count": 6,
   "id": "7e9b4b60-103c-49b4-87c7-6cdce163d48e",
   "metadata": {},
   "outputs": [
    {
     "name": "stdout",
     "output_type": "stream",
     "text": [
      "Tuple containing first five letters: ('a', 'b', 'c', 'd', 'e')\n"
     ]
    }
   ],
   "source": [
    "# Define the tuple\n",
    "letters = ('a', 'b', 'c', 'd', 'e')\n",
    "print(\"Tuple containing first five letters:\", letters)\n"
   ]
  },
  {
   "cell_type": "code",
   "execution_count": 7,
   "id": "7386b446-e668-427a-b74a-f77fe0c82e02",
   "metadata": {},
   "outputs": [
    {
     "name": "stdout",
     "output_type": "stream",
     "text": [
      "Third element: c\n",
      "Last element: e\n"
     ]
    }
   ],
   "source": [
    "# Access the third and last elements\n",
    "third_element = letters[2]  \n",
    "last_element = letters[-1]   \n",
    "\n",
    "print(\"Third element:\", third_element)\n",
    "print(\"Last element:\", last_element)\n"
   ]
  },
  {
   "cell_type": "code",
   "execution_count": 8,
   "id": "343bb24a-28c4-4c3b-be23-24d9035cca95",
   "metadata": {},
   "outputs": [
    {
     "name": "stdout",
     "output_type": "stream",
     "text": [
      "Original list: [1, 2, 3]\n",
      "List after appending 4: [1, 2, 3, 4]\n",
      "Original tuple: (1, 2, 3)\n",
      "Error: 'tuple' object does not support item assignment\n"
     ]
    }
   ],
   "source": [
    "# Create a list and a tuple\n",
    "my_list = [1, 2, 3]\n",
    "my_tuple = (1, 2, 3)\n",
    "\n",
    "print(\"Original list:\", my_list)\n",
    "my_list.append(4)  \n",
    "print(\"List after appending 4:\", my_list)\n",
    "\n",
    "print(\"Original tuple:\", my_tuple)\n",
    "try:\n",
    "    my_tuple[2] = 9  \n",
    "except TypeError as e:\n",
    "    print(\"Error:\", e)\n"
   ]
  },
  {
   "cell_type": "code",
   "execution_count": 9,
   "id": "c04f63c4-75ea-4a5a-8db4-e7b174d60803",
   "metadata": {},
   "outputs": [
    {
     "name": "stdout",
     "output_type": "stream",
     "text": [
      "Error when trying to modify tuple: 'tuple' object does not support item assignment\n"
     ]
    }
   ],
   "source": [
    "# Create the tuple\n",
    "num = (1, 2, 3, 4)\n",
    "try:\n",
    "    num[2] = 9  # This will raise an error\n",
    "except TypeError as e:\n",
    "    print(\"Error when trying to modify tuple:\", e)"
   ]
  },
  {
   "cell_type": "markdown",
   "id": "210811d0-bc65-44d0-ac6d-83c44211f4d8",
   "metadata": {},
   "source": [
    "<p style=\"color:teal; font-size:25px; font-family: Impact; text-align:left;\">Dictionary</p>"
   ]
  },
  {
   "cell_type": "markdown",
   "id": "fe3a88ca-6fe2-4c1a-9382-ddc95e4b4201",
   "metadata": {},
   "source": [
    "<p style=\"color:teal; font-size:25px; font-family: Impact; text-align:left;\">Dictionary Operation </p>"
   ]
  },
  {
   "cell_type": "code",
   "execution_count": 10,
   "id": "693d5f2f-871b-4c86-9551-b2cb8af7ffdf",
   "metadata": {},
   "outputs": [],
   "source": [
    "Fd = {\n",
    "    'one': 'aik',\n",
    "    'three': 'teen',\n",
    "    'ten': 'das',\n",
    "    'fifteen': 'pandra'\n",
    "}"
   ]
  },
  {
   "cell_type": "code",
   "execution_count": 11,
   "id": "74805e69-0a92-4a52-9569-f578974c70fb",
   "metadata": {},
   "outputs": [
    {
     "name": "stdout",
     "output_type": "stream",
     "text": [
      "Fd (Dictionary): {'one': 'aik', 'three': 'teen', 'ten': 'das', 'fifteen': 'pandra'}\n"
     ]
    }
   ],
   "source": [
    "print(\"Fd (Dictionary):\", Fd)\n"
   ]
  },
  {
   "cell_type": "code",
   "execution_count": 12,
   "id": "7638b0ed-cfb7-475f-9be1-e8088d1fab3e",
   "metadata": {},
   "outputs": [
    {
     "name": "stdout",
     "output_type": "stream",
     "text": [
      "Fd['one']: aik\n"
     ]
    }
   ],
   "source": [
    "print(\"Fd['one']:\", Fd['one'])"
   ]
  },
  {
   "cell_type": "code",
   "execution_count": 13,
   "id": "9b591dd9-ff9d-42a6-923d-2e6ce0369213",
   "metadata": {},
   "outputs": [
    {
     "name": "stdout",
     "output_type": "stream",
     "text": [
      "Fd['ten']: das\n"
     ]
    }
   ],
   "source": [
    "print(\"Fd['ten']:\", Fd['ten'])"
   ]
  },
  {
   "cell_type": "code",
   "execution_count": 14,
   "id": "160b8cf5-7401-479d-8a7f-2147599e1568",
   "metadata": {},
   "outputs": [
    {
     "name": "stdout",
     "output_type": "stream",
     "text": [
      "After deleting 'three': {'one': 'aik', 'ten': 'das', 'fifteen': 'pandra'}\n"
     ]
    }
   ],
   "source": [
    "del Fd['three']\n",
    "print(\"After deleting 'three':\", Fd)"
   ]
  },
  {
   "cell_type": "code",
   "execution_count": 15,
   "id": "823c099e-8b66-4160-bf2d-e940ac084d42",
   "metadata": {},
   "outputs": [
    {
     "name": "stdout",
     "output_type": "stream",
     "text": [
      "Length of Fd: 3\n"
     ]
    }
   ],
   "source": [
    "print(\"Length of Fd:\", len(Fd))"
   ]
  },
  {
   "cell_type": "code",
   "execution_count": 16,
   "id": "fc097200-bf06-4215-9608-fe9c036fd510",
   "metadata": {},
   "outputs": [
    {
     "name": "stdout",
     "output_type": "stream",
     "text": [
      "Keys in Fd: dict_keys(['one', 'ten', 'fifteen'])\n"
     ]
    }
   ],
   "source": [
    "print(\"Keys in Fd:\", Fd.keys())"
   ]
  },
  {
   "cell_type": "code",
   "execution_count": 17,
   "id": "41155792-dca4-4b7e-b0dc-6ffaa11ee700",
   "metadata": {},
   "outputs": [
    {
     "name": "stdout",
     "output_type": "stream",
     "text": [
      "Values in Fd: dict_values(['aik', 'das', 'pandra'])\n"
     ]
    }
   ],
   "source": [
    "print(\"Values in Fd:\", Fd.values())"
   ]
  },
  {
   "cell_type": "code",
   "execution_count": 18,
   "id": "dceed725-e1a8-4d13-ac50-f4e002c4d61c",
   "metadata": {},
   "outputs": [
    {
     "name": "stdout",
     "output_type": "stream",
     "text": [
      "Fd.items(): dict_items([('one', 'aik'), ('ten', 'das'), ('fifteen', 'pandra')])\n"
     ]
    }
   ],
   "source": [
    "print(\"Fd.items():\", Fd.items())"
   ]
  },
  {
   "cell_type": "code",
   "execution_count": 24,
   "id": "87112745-7eff-4c96-b62d-3e071d41b864",
   "metadata": {},
   "outputs": [
    {
     "name": "stdout",
     "output_type": "stream",
     "text": [
      "'one' in Fd: True\n",
      "'two' in Fd: False\n"
     ]
    }
   ],
   "source": [
    "print(\"'one' in Fd:\", 'one' in Fd)\n",
    "print(\"'two' in Fd:\", 'two' in Fd) "
   ]
  },
  {
   "cell_type": "code",
   "execution_count": 25,
   "id": "2a29336b-c1a4-499e-8573-7781f1fad8c0",
   "metadata": {},
   "outputs": [
    {
     "ename": "NameError",
     "evalue": "name 'Alias' is not defined",
     "output_type": "error",
     "traceback": [
      "\u001b[1;31m---------------------------------------------------------------------------\u001b[0m",
      "\u001b[1;31mNameError\u001b[0m                                 Traceback (most recent call last)",
      "\u001b[1;32m~\\AppData\\Local\\Temp\\ipykernel_7616\\875294945.py\u001b[0m in \u001b[0;36m<module>\u001b[1;34m\u001b[0m\n\u001b[1;32m----> 1\u001b[1;33m \u001b[0mAlias\u001b[0m\u001b[1;33m[\u001b[0m\u001b[1;34m'three'\u001b[0m\u001b[1;33m]\u001b[0m \u001b[1;33m=\u001b[0m \u001b[1;34m'3'\u001b[0m\u001b[1;33m\u001b[0m\u001b[1;33m\u001b[0m\u001b[0m\n\u001b[0m\u001b[0;32m      2\u001b[0m \u001b[0mprint\u001b[0m\u001b[1;33m(\u001b[0m\u001b[1;34m\"Alias after modification:\"\u001b[0m\u001b[1;33m,\u001b[0m \u001b[1;34m\"Alias\"\u001b[0m\u001b[1;33m)\u001b[0m\u001b[1;33m\u001b[0m\u001b[1;33m\u001b[0m\u001b[0m\n\u001b[0;32m      3\u001b[0m \u001b[0mprint\u001b[0m\u001b[1;33m(\u001b[0m\u001b[1;34m\"Original dictionary after Alias modification:\"\u001b[0m\u001b[1;33m,\u001b[0m \u001b[1;34m\"Fd\"\u001b[0m\u001b[1;33m)\u001b[0m\u001b[1;33m\u001b[0m\u001b[1;33m\u001b[0m\u001b[0m\n\u001b[0;32m      4\u001b[0m \u001b[0mcopy\u001b[0m\u001b[1;33m[\u001b[0m\u001b[1;34m'three'\u001b[0m\u001b[1;33m]\u001b[0m \u001b[1;33m=\u001b[0m \u001b[1;34m'3'\u001b[0m\u001b[1;33m\u001b[0m\u001b[1;33m\u001b[0m\u001b[0m\n\u001b[0;32m      5\u001b[0m \u001b[0mprint\u001b[0m\u001b[1;33m(\u001b[0m\u001b[1;34m\"Copy after modification:\"\u001b[0m\u001b[1;33m,\u001b[0m \u001b[1;34m\"copy\"\u001b[0m\u001b[1;33m)\u001b[0m\u001b[1;33m\u001b[0m\u001b[1;33m\u001b[0m\u001b[0m\n",
      "\u001b[1;31mNameError\u001b[0m: name 'Alias' is not defined"
     ]
    }
   ],
   "source": [
    "Alias['three'] = '3'  \n",
    "print(\"Alias after modification:\", \"Alias\")\n",
    "print(\"Original dictionary after Alias modification:\", \"Fd\")\n",
    "copy['three'] = '3'   \n",
    "print(\"Copy after modification:\", \"copy\")\n",
    "print(\"Original dictionary after copy modification:\", \"Fd\")"
   ]
  },
  {
   "cell_type": "markdown",
   "id": "dc9ad857-3cf7-4b10-92af-71a72d6574f3",
   "metadata": {},
   "source": [
    "# 2 Built-in Dictionary Functions"
   ]
  },
  {
   "cell_type": "code",
   "execution_count": null,
   "id": "15a400af-529a-4706-b5f7-20b2a04d8492",
   "metadata": {},
   "outputs": [],
   "source": [
    "my_dict = {\n",
    "    'name': 'hilal',\n",
    "    'age': 20,\n",
    "    'city': 'Peshawar'\n",
    "}"
   ]
  },
  {
   "cell_type": "code",
   "execution_count": null,
   "id": "cea4caed-9e25-4536-ab1f-1aa5cc2215ae",
   "metadata": {},
   "outputs": [],
   "source": [
    "print(\"Original my_dict:\", my_dict)\n",
    "my_dict.clear()        # Clear the dictionary\n",
    "print(\"my_dict after clear():\", my_dict)"
   ]
  },
  {
   "cell_type": "code",
   "execution_count": null,
   "id": "64bca53a-140d-433d-8e60-833120dbf6b1",
   "metadata": {},
   "outputs": [],
   "source": [
    "# b. .get()\n",
    "my_dict = {\n",
    "    'name': 'hilal',\n",
    "    'age': 20,\n",
    "    'city': 'Peshawar'\n",
    "}\n",
    "print(\"Getting 'name' using get():\", my_dict.get('name'))\n",
    "print(\"Getting 'nonexistent' using get():\", my_dict.get('nonexistent'))  \n"
   ]
  },
  {
   "cell_type": "code",
   "execution_count": null,
   "id": "5b52a64f-998c-4454-bf9d-f29b90aa1327",
   "metadata": {},
   "outputs": [],
   "source": [
    "print(\"Items in my_dict:\", my_dict.items())\n"
   ]
  },
  {
   "cell_type": "code",
   "execution_count": null,
   "id": "46fae1bd-205b-4449-8fab-64ccae56fa26",
   "metadata": {},
   "outputs": [],
   "source": [
    "print(\"Keys in my_dict:\", my_dict.keys())\n"
   ]
  },
  {
   "cell_type": "code",
   "execution_count": null,
   "id": "73b6a769-16b4-412f-8ca3-f3d1a97d41f2",
   "metadata": {},
   "outputs": [],
   "source": [
    "print(\"Values in my_dict:\", my_dict.values())"
   ]
  },
  {
   "cell_type": "markdown",
   "id": "9ee4b8cf-22e3-4f02-885f-664f5300d188",
   "metadata": {},
   "source": [
    "<p style=\"color:teal; font-size:25px; font-family: Impact; text-align:left;\">List Comprehension</p>"
   ]
  },
  {
   "cell_type": "code",
   "execution_count": null,
   "id": "1c7e6aeb-32cc-4384-a33a-dea34fccc163",
   "metadata": {},
   "outputs": [],
   "source": [
    "squares = []\n",
    "for x in range(10):\n",
    "    squares.append(x * x)\n",
    "\n",
    "print(squares)\n"
   ]
  },
  {
   "cell_type": "code",
   "execution_count": null,
   "id": "ea9c0f87-b3c0-48c6-9472-d66333e9f4aa",
   "metadata": {},
   "outputs": [],
   "source": [
    "squares = [x * x for x in range(10)]\n",
    "print(squares)\n"
   ]
  },
  {
   "cell_type": "code",
   "execution_count": null,
   "id": "1035e373-a351-4378-b323-14482fb22bd7",
   "metadata": {},
   "outputs": [],
   "source": [
    "squares = [(x + 1) for x in range(10)]\n",
    "print(squares)\n"
   ]
  },
  {
   "cell_type": "code",
   "execution_count": null,
   "id": "22e7b7cf-97f0-4376-b6a1-a58b475b7b03",
   "metadata": {},
   "outputs": [],
   "source": [
    "even_squares = [x * x for x in range(10) if x % 2 == 0]\n",
    "print(even_squares)\n"
   ]
  },
  {
   "cell_type": "code",
   "execution_count": null,
   "id": "0b1eb373-cfff-4341-8533-9f6a0a8f0ab1",
   "metadata": {},
   "outputs": [],
   "source": [
    "even_squares = []\n",
    "for x in range(10):\n",
    "    if x % 2 == 0:\n",
    "        even_squares.append(x * x)\n",
    "\n",
    "print(even_squares)\n"
   ]
  },
  {
   "cell_type": "markdown",
   "id": "5d11de92-13b3-4634-b72e-f2f9e65dc46f",
   "metadata": {},
   "source": [
    "<p style=\"color:teal; font-size:25px; font-family: Impact; text-align:left;\">Dictionary Comprehension</p>"
   ]
  },
  {
   "cell_type": "code",
   "execution_count": null,
   "id": "334a4336-b65b-4fb0-98c8-9307851bc69e",
   "metadata": {},
   "outputs": [],
   "source": [
    "squares_dict = {x: x * x for x in range(5)}\n",
    "print(squares_dict)\n"
   ]
  },
  {
   "cell_type": "code",
   "execution_count": null,
   "id": "24a3466d-3569-490a-8542-bf90f936632b",
   "metadata": {},
   "outputs": [],
   "source": [
    "even_squares_dict = {x:x * x for x in range(10) if x % 2 == 0}\n",
    "print(even_squares_dict)\n"
   ]
  },
  {
   "cell_type": "markdown",
   "id": "c76b2ba1-be65-4fa8-ba5c-cd516aa6b28b",
   "metadata": {},
   "source": [
    "<p style=\"color:teal; font-size:25px; font-family: Impact; text-align:left;\">Encoureging </p>"
   ]
  },
  {
   "cell_type": "code",
   "execution_count": null,
   "id": "65b82e90-1744-4e3c-a087-e58429de6ea9",
   "metadata": {},
   "outputs": [],
   "source": [
    "my_list = ['spam!', 1, ['Brie', 'Roquefort', 'Pol le Veq'], [1, 2, 3]]\n",
    "\n",
    "for item in my_list:\n",
    "    try:\n",
    "        print(f\"Length of {item}: {len(item)}\")\n",
    "    except TypeError:\n",
    "        print(f\"{item} is not a type that has a length.\")"
   ]
  },
  {
   "cell_type": "code",
   "execution_count": null,
   "id": "212fdcbc-3e80-476c-a9a0-4b95fef6c1a2",
   "metadata": {},
   "outputs": [],
   "source": [
    "import csv\n",
    "with open(r'C:\\Users\\Acer\\Documents\\Result_CSV (1).csv', mode='r') as file:\n",
    "    csv_reader = csv.reader(file)\n",
    "    for row in csv_reader:\n",
    "        print(row)"
   ]
  },
  {
   "cell_type": "code",
   "execution_count": null,
   "id": "33db193d-2b52-41ee-8f23-d8612040fbe7",
   "metadata": {},
   "outputs": [],
   "source": [
    "# Reading the CSV as a list\n",
    "data_list = read_csv_as_list(file_path)\n",
    "print(\"CSV as a List:\")\n",
    "for row in data_list:\n",
    "    print(row)\n",
    "# Reading the CSV as a list of dictionaries\n",
    "data_dict = read_csv_as_dict(file_path)\n",
    "print(\"\\nCSV as a List of Dictionaries:\")\n",
    "for row in data_dict:\n",
    "    print(row)"
   ]
  },
  {
   "cell_type": "markdown",
   "id": "b0b0ec13-46c8-4b1a-a37b-88abd249d260",
   "metadata": {},
   "source": []
  },
  {
   "cell_type": "code",
   "execution_count": null,
   "id": "5ad365be-be91-4e80-8850-3c234cdaa0ce",
   "metadata": {},
   "outputs": [],
   "source": []
  },
  {
   "cell_type": "code",
   "execution_count": null,
   "id": "f9ddbb0d-1c35-4ef4-8576-b5bb67f1a66d",
   "metadata": {},
   "outputs": [],
   "source": []
  },
  {
   "cell_type": "code",
   "execution_count": null,
   "id": "40273035-9701-4e4f-8ba5-69d644f8e20b",
   "metadata": {},
   "outputs": [],
   "source": []
  }
 ],
 "metadata": {
  "kernelspec": {
   "display_name": "Python 3 (ipykernel)",
   "language": "python",
   "name": "python3"
  },
  "language_info": {
   "codemirror_mode": {
    "name": "ipython",
    "version": 3
   },
   "file_extension": ".py",
   "mimetype": "text/x-python",
   "name": "python",
   "nbconvert_exporter": "python",
   "pygments_lexer": "ipython3",
   "version": "3.9.20"
  }
 },
 "nbformat": 4,
 "nbformat_minor": 5
}
